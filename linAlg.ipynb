{
 "cells": [
  {
   "cell_type": "markdown",
   "metadata": {},
   "source": [
    "# Linear Algebra"
   ]
  },
  {
   "cell_type": "markdown",
   "metadata": {},
   "source": [
    "## Geometric Series\n",
    "\n",
    "### General definition\n",
    "$$\n",
    "  \\sum_{k = 1}^{n}ar^{k - 1} = ar^{0} + ar^{1} + ar^{2} + ... + ar^{n - 1} + ar^{n}\n",
    "$$\n",
    "\n",
    "### Derivation\n",
    "#### 1.\n",
    "$$\n",
    "  \\sum_{k = 1}^{n}ar^{k - 1} = \\frac{a(1 - r^{n})}{1-r}\n",
    "$$\n",
    "\n",
    "##### How?\n",
    "\n",
    "$$\n",
    "  \\sum_{k = 1}^{n}ar^{k - 1} = ar^{0} + ar^{1} + ar^{2} + ... + ar^{n - 1} + ar^{n}\n",
    "$$\n",
    "\n",
    "Multiply both sides by $(1 - r)$ to simplify\n",
    "\n",
    "$$\n",
    "  (1 - r)\\sum_{k = 1}^{n}ar^{k - 1} = (1 - r)(ar^{0} + ar^{1} + ar^{2} + ... + ar^{n - 1} + ar^{n})\n",
    "$$\n",
    "$$\n",
    "  (1 - r)\\sum_{k = 1}^{n}ar^{k - 1} = ar^{0} + ar^{1} + ar^{2} + ... + ar^{n - 1} - ar^{0} - ar^{1} - ar^{2} - ... - ar^{n - 1} - ar^{n}\n",
    "$$\n",
    "$$\n",
    "  \\sum_{k = 1}^{n}ar^{k - 1} = \\frac{a(1 - r^{n})}{1-r}\n",
    "$$\n"
   ]
  }
 ],
 "metadata": {
  "language_info": {
   "name": "python"
  },
  "orig_nbformat": 4
 },
 "nbformat": 4,
 "nbformat_minor": 2
}
